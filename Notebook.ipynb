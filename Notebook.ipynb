{
  "cells": [
    {
      "cell_type": "markdown",
      "source": [
        "# Sentiment Analysis through Unsupervised Learning\n",
        "\n",
        "In this jupyter notebook, I will show you how to apply sentiment analysis to a text through an Unsupervised Learning (UL) technique, based on the AFINN lexicon. This tutorial exploits the `afinn` Python package, which is available only for English and Danish. If your text is written into a different language, you could translate it before in English and use the `afinn` package.\n",
        "\n",
        "This notebook applies sentiment analysis the the Saint Augustine Confessions, which can be downloaded from the [Gutemberg Project Page](https://www.gutenberg.org/files/3296/3296-h/3296-h.htm). The masterpiece is split in 13 books. We have stored each book into a different file, named number.text (e.g. 1.txt and 2.txt). Each line of every file contains just one sentence.\n",
        "\n",
        "First of all import the `Afinn` class from the `afinn` package. "
      ],
      "metadata": {
        "id": "2joSEnDk4Vum"
      }
    },
    {
      "cell_type": "code",
      "source": [
        "from afinn import Afinn"
      ],
      "metadata": {
        "id": "H7j9YZug4VBh"
      },
      "execution_count": null,
      "outputs": []
    },
    {
      "cell_type": "markdown",
      "source": [
        "Then create a new `Afinn` object, by specifying the used language."
      ],
      "metadata": {
        "id": "THhgcCpe4ddE"
      }
    },
    {
      "cell_type": "code",
      "source": [
        "afinn = Afinn(language='en')"
      ],
      "metadata": {
        "id": "uPuXoWXz4fys"
      },
      "execution_count": null,
      "outputs": []
    },
    {
      "cell_type": "markdown",
      "source": [
        "The `afinn` object contains a method, called `score()`, which receives a sentence as input and returns a score as output. The score may be either positive, negative or neutral. We calculate the score of a book, simply by summing all the scores of all the sentence of that book. We define three variables> pos, neg and neutral, which store respectively the sum of all the positive, negative and neutral scores of all the sentences of a book.\n",
        "\n",
        "Firstly, we define three indexes, which will be used after."
      ],
      "metadata": {
        "id": "Z8dUE0094iaz"
      }
    },
    {
      "cell_type": "code",
      "source": [
        "pos_index = []\n",
        "neg_index = []\n",
        "neutral_index = []"
      ],
      "metadata": {
        "id": "yCmPKBjM4hkZ"
      },
      "execution_count": null,
      "outputs": []
    },
    {
      "cell_type": "markdown",
      "source": [
        "We open the file corresponding to each book through the `open()` function, we read all the lines through the function `file.readlines()` and for each line, we calculate the score.\n",
        "\n",
        "Then, we can define three indexes to calculate the sentiment of a book: the positive sentiment index (pi), the negative sentiment index (ni) and the neutral sentiment index (nui). The pi of a book corresponds to the number of positive sentences in a book divided per the total number of sentences of the book. Similarly, we can calculate the ni and nui of a book."
      ],
      "metadata": {
        "id": "JjiW-XWa4mF8"
      }
    },
    {
      "cell_type": "code",
      "source": [
        "for book in range(1,14):\n",
        "    file = open('sources/' + str(book) + '.txt')\n",
        "    lines = file.readlines()\n",
        "    pos = 0\n",
        "    neg = 0\n",
        "    neutral = 0\n",
        "    \n",
        "    for line in lines:\n",
        "        score = int(afinn.score(line))\n",
        "        \n",
        "        if score > 0:\n",
        "            pos += 1\n",
        "        elif score < 0:\n",
        "            neg += 1\n",
        "        else:\n",
        "            neutral += 1\n",
        "        \n",
        "    n = len(lines)\n",
        "    pos_index.append(pos / n)\n",
        "    neg_index.append(neg / n)\n",
        "    neutral_index.append(neutral / n)"
      ],
      "metadata": {
        "id": "wb4P61Aq4num"
      },
      "execution_count": null,
      "outputs": []
    },
    {
      "cell_type": "markdown",
      "source": [
        "Finally, we can plot results, by using the `matplotlib` package."
      ],
      "metadata": {
        "id": "AJ6oTwBw4sog"
      }
    },
    {
      "cell_type": "code",
      "source": [
        "import matplotlib.pyplot as plt\n",
        "import numpy as np\n",
        "\n",
        "X = np.arange(1,14)\n",
        "plt.plot(X,pos_index,'-.',label='pos')\n",
        "plt.plot(X,neg_index, '--',label='neg')\n",
        "plt.plot(X,neutral_index,'-',label='neu')\n",
        "plt.legend()\n",
        "plt.xticks(X)\n",
        "plt.xlabel('Libri')\n",
        "plt.ylabel('Indici')\n",
        "plt.grid()\n",
        "plt.savefig('plots/afinn-bsi.png')\n",
        "plt.show()  "
      ],
      "metadata": {
        "id": "W1K60xCK4pue"
      },
      "execution_count": null,
      "outputs": []
    }
  ],
  "metadata": {
    "language_info": {
      "name": "python"
    },
    "orig_nbformat": 4,
    "colab": {
      "provenance": []
    },
    "kernelspec": {
      "name": "python3",
      "display_name": "Python 3"
    },
    "gpuClass": "standard"
  },
  "nbformat": 4,
  "nbformat_minor": 0
}